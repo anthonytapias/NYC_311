{
 "cells": [
  {
   "cell_type": "code",
   "execution_count": 37,
   "metadata": {},
   "outputs": [
    {
     "data": {
      "text/plain": [
       "{'fips': [{'name': 'us',\n",
       "   'geoLevelDisplay': '010',\n",
       "   'referenceDate': '2016-01-01'},\n",
       "  {'name': 'region', 'geoLevelDisplay': '020', 'referenceDate': '2016-01-01'},\n",
       "  {'name': 'division',\n",
       "   'geoLevelDisplay': '030',\n",
       "   'referenceDate': '2016-01-01'},\n",
       "  {'name': 'state', 'geoLevelDisplay': '040', 'referenceDate': '2016-01-01'},\n",
       "  {'name': 'county',\n",
       "   'geoLevelDisplay': '050',\n",
       "   'referenceDate': '2016-01-01',\n",
       "   'requires': ['state'],\n",
       "   'wildcard': ['state'],\n",
       "   'optionalWithWCFor': 'state'},\n",
       "  {'name': 'county subdivision',\n",
       "   'geoLevelDisplay': '060',\n",
       "   'referenceDate': '2016-01-01',\n",
       "   'requires': ['state', 'county']},\n",
       "  {'name': 'place',\n",
       "   'geoLevelDisplay': '160',\n",
       "   'referenceDate': '2016-01-01',\n",
       "   'requires': ['state'],\n",
       "   'wildcard': ['state'],\n",
       "   'optionalWithWCFor': 'state'},\n",
       "  {'name': 'alaska native regional corporation',\n",
       "   'geoLevelDisplay': '230',\n",
       "   'referenceDate': '2016-01-01',\n",
       "   'requires': ['state'],\n",
       "   'wildcard': ['state'],\n",
       "   'optionalWithWCFor': 'state'},\n",
       "  {'name': 'american indian area/alaska native area/hawaiian home land',\n",
       "   'geoLevelDisplay': '250',\n",
       "   'referenceDate': '2016-01-01'},\n",
       "  {'name': 'metropolitan statistical area/micropolitan statistical area',\n",
       "   'geoLevelDisplay': '310',\n",
       "   'referenceDate': '2016-01-01'},\n",
       "  {'name': 'principal city (or part)',\n",
       "   'geoLevelDisplay': '312',\n",
       "   'referenceDate': '2016-01-01',\n",
       "   'requires': ['metropolitan statistical area/micropolitan statistical area',\n",
       "    'state']},\n",
       "  {'name': 'metropolitan division',\n",
       "   'geoLevelDisplay': '314',\n",
       "   'referenceDate': '2016-01-01',\n",
       "   'requires': ['metropolitan statistical area/micropolitan statistical area'],\n",
       "   'wildcard': ['metropolitan statistical area/micropolitan statistical area'],\n",
       "   'optionalWithWCFor': 'metropolitan statistical area/micropolitan statistical area'},\n",
       "  {'name': 'combined statistical area',\n",
       "   'geoLevelDisplay': '330',\n",
       "   'referenceDate': '2016-01-01'},\n",
       "  {'name': 'combined new england city and town area',\n",
       "   'geoLevelDisplay': '335',\n",
       "   'referenceDate': '2016-01-01'},\n",
       "  {'name': 'new england city and town area',\n",
       "   'geoLevelDisplay': '350',\n",
       "   'referenceDate': '2016-01-01'},\n",
       "  {'name': 'principal city (or part)',\n",
       "   'geoLevelDisplay': '352',\n",
       "   'referenceDate': '2016-01-01',\n",
       "   'requires': ['new england city and town area', 'state']},\n",
       "  {'name': 'necta division',\n",
       "   'geoLevelDisplay': '355',\n",
       "   'referenceDate': '2016-01-01',\n",
       "   'requires': ['new england city and town area']},\n",
       "  {'name': 'urban area',\n",
       "   'geoLevelDisplay': '400',\n",
       "   'referenceDate': '2016-01-01'},\n",
       "  {'name': 'congressional district',\n",
       "   'geoLevelDisplay': '500',\n",
       "   'referenceDate': '2016-01-01',\n",
       "   'requires': ['state'],\n",
       "   'wildcard': ['state'],\n",
       "   'optionalWithWCFor': 'state'},\n",
       "  {'name': 'public use microdata area',\n",
       "   'geoLevelDisplay': '795',\n",
       "   'referenceDate': '2016-01-01',\n",
       "   'requires': ['state'],\n",
       "   'wildcard': ['state'],\n",
       "   'optionalWithWCFor': 'state'},\n",
       "  {'name': 'school district (elementary)',\n",
       "   'geoLevelDisplay': '950',\n",
       "   'referenceDate': '2016-01-01',\n",
       "   'requires': ['state'],\n",
       "   'wildcard': ['state'],\n",
       "   'optionalWithWCFor': 'state'},\n",
       "  {'name': 'school district (secondary)',\n",
       "   'geoLevelDisplay': '960',\n",
       "   'referenceDate': '2016-01-01',\n",
       "   'requires': ['state'],\n",
       "   'wildcard': ['state'],\n",
       "   'optionalWithWCFor': 'state'},\n",
       "  {'name': 'school district (unified)',\n",
       "   'geoLevelDisplay': '970',\n",
       "   'referenceDate': '2016-01-01',\n",
       "   'requires': ['state'],\n",
       "   'wildcard': ['state'],\n",
       "   'optionalWithWCFor': 'state'}]}"
      ]
     },
     "execution_count": 37,
     "metadata": {},
     "output_type": "execute_result"
    }
   ],
   "source": [
    "import requests\n",
    "population = requests.get('https://api.census.gov/data/2017/acs/acs1/cprofile/geography.json')\n",
    "population.json()"
   ]
  },
  {
   "cell_type": "code",
   "execution_count": 40,
   "metadata": {},
   "outputs": [
    {
     "data": {
      "text/plain": [
       "[['CP02_2014_001E',\n",
       "  'NAME',\n",
       "  'metropolitan statistical area/micropolitan statistical area',\n",
       "  'metropolitan division'],\n",
       " ['738496',\n",
       "  'Boston, MA Metro Division; Boston-Cambridge-Newton, MA-NH Metro Area',\n",
       "  '14460',\n",
       "  '14454']]"
      ]
     },
     "execution_count": 40,
     "metadata": {},
     "output_type": "execute_result"
    }
   ],
   "source": [
    "attempt_two = requests.get('https://api.census.gov/data/2017/acs/acs1/cprofile?get=CP02_2014_001E,NAME&for=metropolitan%20division:14454&in=metropolitan%20statistical%20area/micropolitan%20statistical%20area:14460&key=77dc8b08776707703ec7b9ec6ac9874dd8431ab0')\n",
    "attempt_two.json()"
   ]
  },
  {
   "cell_type": "code",
   "execution_count": null,
   "metadata": {},
   "outputs": [],
   "source": []
  }
 ],
 "metadata": {
  "kernelspec": {
   "display_name": "Python 3",
   "language": "python",
   "name": "python3"
  },
  "language_info": {
   "codemirror_mode": {
    "name": "ipython",
    "version": 3
   },
   "file_extension": ".py",
   "mimetype": "text/x-python",
   "name": "python",
   "nbconvert_exporter": "python",
   "pygments_lexer": "ipython3",
   "version": "3.7.0"
  }
 },
 "nbformat": 4,
 "nbformat_minor": 2
}
